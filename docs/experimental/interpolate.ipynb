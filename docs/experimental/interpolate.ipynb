{
 "cells": [
  {
   "cell_type": "markdown",
   "id": "19b320ea-5b12-472f-bdd6-a3cd8748ea7e",
   "metadata": {},
   "source": [
    "# Demonstrate possible interpolation workflow using gridspec"
   ]
  },
  {
   "cell_type": "markdown",
   "id": "4a94b638-fda6-4770-8c62-ca7d412f96ed",
   "metadata": {},
   "source": [
    "We define the interpolation and plotting methods. These tasks will be performed by earthkit-regrid and earthkit-maps in the future."
   ]
  },
  {
   "cell_type": "code",
   "execution_count": 1,
   "id": "1e92877d-5e5a-48ae-ac2d-3c683236546f",
   "metadata": {},
   "outputs": [],
   "source": [
    "import matplotlib.pyplot as plt\n",
    "import numpy as np\n",
    "from scipy.interpolate import RegularGridInterpolator\n",
    "\n",
    "# Interpolate with scipy. Only works for some regular latlon grids.\n",
    "# Will be done by eathkit-regrid in the future.\n",
    "def interpolate(vals, gs, grid=None, area=None):\n",
    "    # create interpolator object from gridspec\n",
    "    area1 = gs[\"area\"]\n",
    "    dx, dy = gs[\"grid\"]\n",
    "    dy *= -1\n",
    "    x = np.arange(area1[1], area1[3]+ dx, dx)\n",
    "    y = np.arange(area1[0], area1[2]+ dy, dy)\n",
    "    data = vals.reshape(len(y), len(x))\n",
    "    interp = RegularGridInterpolator((y, x), data)\n",
    "\n",
    "    # define target points from kwargs\n",
    "    dx1, dy1 =  grid\n",
    "    dy1 *= -1\n",
    "    x1 = np.arange(area[1], area[3] + dx1, dx1)\n",
    "    y1 = np.arange(area[0], area[2] + dy1, dy1)\n",
    "    x1g, y1g = np.meshgrid(x1, y1)\n",
    "    target_points = np.stack([x.ravel() for x in (y1g, x1g)], axis=1)\n",
    "\n",
    "    # interpolate\n",
    "    vals1 = interp(target_points)\n",
    "\n",
    "    # define gridspec for new grid\n",
    "    gs1 = {\n",
    "        \"type\": \"regular_ll\",\n",
    "        \"grid\": grid,\n",
    "        \"area\": area,\n",
    "        \"j_points_consecutive\": 0,\n",
    "        \"i_scans_negatively\": 0,\n",
    "        \"j_scans_positively\": 0,\n",
    "    }\n",
    "\n",
    "    return vals1, gs1\n",
    "\n",
    "# Plot field with matplotlib. \n",
    "# Will be done by eathkit-maps in the future.\n",
    "def plot_field(f, title=\"\"):\n",
    "    lat, lon, vals  = f.data(flatten=False)\n",
    "    vals = vals - 273.16\n",
    "    fig, ax = plt.subplots()\n",
    "    p = ax.pcolormesh(lon, lat, vals, cmap=\"plasma\", shading=\"nearest\")\n",
    "    fig.colorbar(p)\n",
    "    plt.title(title)\n",
    "    plt.show()"
   ]
  },
  {
   "cell_type": "markdown",
   "id": "5a288947-8080-45db-8509-77456bbe43f3",
   "metadata": {},
   "source": [
    "The main code."
   ]
  },
  {
   "cell_type": "code",
   "execution_count": 2,
   "id": "db6c4333-0a4d-48b0-a493-c5acc406bb9e",
   "metadata": {},
   "outputs": [
    {
     "name": "stdout",
     "output_type": "stream",
     "text": [
      "'type': regular_ll\n",
      "'j_points_consecutive': 0\n",
      "'i_scans_negatively': 0\n",
      "'j_scans_positively': 0\n",
      "'grid': [5.0, 5.0]\n",
      "'area': [75.0, -60.0, 10.0, 40.0]\n"
     ]
    }
   ],
   "source": [
    "import earthkit.data\n",
    "from earthkit.data.core.fieldlist import FieldList\n",
    "\n",
    "# read 5x5 degree regular_ll grib data on a subarea\n",
    "earthkit.data.download_example_file(\"t_75_-60_10_40_5x5.grib1\")\n",
    "ds = earthkit.data.from_source(\"file\", \"t_75_-60_10_40_5x5.grib1\")\n",
    "\n",
    "# extract values and gridspec\n",
    "vals = ds[0].values\n",
    "gs = ds[0].metadata().gridspec\n",
    "\n",
    "for k, v in gs.items(): print(f\"'{k}': {v}\")"
   ]
  },
  {
   "cell_type": "code",
   "execution_count": 3,
   "id": "05a1544f-7476-4f33-a452-6850c0b9d92b",
   "metadata": {},
   "outputs": [
    {
     "name": "stdout",
     "output_type": "stream",
     "text": [
      "'type': regular_ll\n",
      "'grid': [2, 2]\n",
      "'area': [70.0, -50.0, 20.0, 10.0]\n",
      "'j_points_consecutive': 0\n",
      "'i_scans_negatively': 0\n",
      "'j_scans_positively': 0\n"
     ]
    }
   ],
   "source": [
    "# perform interpolation onto another grid using values array and gridspec\n",
    "vals_new, gs_new = interpolate(vals, gs, grid=[2,2], area=[70.0, -50.0, 20.0, 10.0])\n",
    "\n",
    "for k, v in gs_new.items(): print(f\"'{k}': {v}\")"
   ]
  },
  {
   "cell_type": "code",
   "execution_count": 4,
   "id": "ef6fa4c6-f3c0-4118-846c-057bbdd36285",
   "metadata": {},
   "outputs": [
    {
     "data": {
      "text/html": [
       "<style type=\"text/css\">table.ek td {\n",
       "    vertical-align: top;\n",
       "    text-align: left !important;\n",
       "}\n",
       "\n",
       "table.ek th {\n",
       "    vertical-align: top;\n",
       "    text-align: left !important;\n",
       "}\n",
       "</style>\n",
       "<table class=\"eh-table\">\n",
       "<tr><td><b>bitmapPresent</b></td><td>0</td></tr> <tr><td><b>latitudeOfFirstGridPointInDegrees</b></td><td>70.0</td></tr> <tr><td><b>longitudeOfFirstGridPointInDegrees</b></td><td>-50.0</td></tr> <tr><td><b>latitudeOfLastGridPointInDegrees</b></td><td>20.0</td></tr> <tr><td><b>longitudeOfLastGridPointInDegrees</b></td><td>10.0</td></tr> <tr><td><b>iScansNegatively</b></td><td>0</td></tr> <tr><td><b>jScansPositively</b></td><td>0</td></tr> <tr><td><b>jPointsAreConsecutive</b></td><td>0</td></tr> <tr><td><b>jDirectionIncrementInDegrees</b></td><td>2.0</td></tr> <tr><td><b>iDirectionIncrementInDegrees</b></td><td>2.0</td></tr> <tr><td><b>gridType</b></td><td>regular_ll</td></tr>\n",
       "</table>"
      ],
      "text/plain": [
       "{'geography': {'bitmapPresent': 0,\n",
       "  'latitudeOfFirstGridPointInDegrees': 70.0,\n",
       "  'longitudeOfFirstGridPointInDegrees': -50.0,\n",
       "  'latitudeOfLastGridPointInDegrees': 20.0,\n",
       "  'longitudeOfLastGridPointInDegrees': 10.0,\n",
       "  'iScansNegatively': 0,\n",
       "  'jScansPositively': 0,\n",
       "  'jPointsAreConsecutive': 0,\n",
       "  'jDirectionIncrementInDegrees': 2.0,\n",
       "  'iDirectionIncrementInDegrees': 2.0,\n",
       "  'gridType': 'regular_ll'}}"
      ]
     },
     "execution_count": 4,
     "metadata": {},
     "output_type": "execute_result"
    }
   ],
   "source": [
    "# generate new metadata from the resulting gridspec\n",
    "md_new = ds[0].metadata().override(gridspec=gs_new)\n",
    "\n",
    "# generate new fieldlist from the new values array and metadata\n",
    "ds_new = FieldList.from_numpy(vals_new.flatten(), md_new)\n",
    "\n",
    "ds_new[0].dump(namespace=\"geography\")"
   ]
  },
  {
   "cell_type": "markdown",
   "id": "5179ae29-e626-41be-a8ed-34ce90e98781",
   "metadata": {},
   "source": [
    "Plot the fields."
   ]
  },
  {
   "cell_type": "code",
   "execution_count": 5,
   "id": "51e92e60-5a01-4938-b36c-2f7d6dc31530",
   "metadata": {},
   "outputs": [
    {
     "data": {
      "image/png": "[encoded data removed]",
      "text/plain": [
       "<Figure size 640x480 with 2 Axes>"
      ]
     },
     "metadata": {},
     "output_type": "display_data"
    },
    {
     "data": {
      "image/png": "[encoded data removed]",
      "text/plain": [
       "<Figure size 640x480 with 2 Axes>"
      ]
     },
     "metadata": {},
     "output_type": "display_data"
    }
   ],
   "source": [
    "# plot original field\n",
    "plot_field(ds[0], title=\"Original field\")\n",
    "\n",
    "# plot interpolated field\n",
    "plot_field(ds_new[0], title=\"Interpolated field\")"
   ]
  },
  {
   "cell_type": "markdown",
   "id": "4c8dfa47-f1f1-4c42-bd15-36ad421c8c3d",
   "metadata": {},
   "source": [
    "We can save the results into a GRIB file."
   ]
  },
  {
   "cell_type": "code",
   "execution_count": 6,
   "id": "e2d71f94-8d5a-40ec-abfb-0847f0b4b573",
   "metadata": {},
   "outputs": [
    {
     "data": {
      "text/html": [
       "<div>\n",
       "<style scoped>\n",
       "    .dataframe tbody tr th:only-of-type {\n",
       "        vertical-align: middle;\n",
       "    }\n",
       "\n",
       "    .dataframe tbody tr th {\n",
       "        vertical-align: top;\n",
       "    }\n",
       "\n",
       "    .dataframe thead th {\n",
       "        text-align: right;\n",
       "    }\n",
       "</style>\n",
       "<table border=\"1\" class=\"dataframe\">\n",
       "  <thead>\n",
       "    <tr style=\"text-align: right;\">\n",
       "      <th></th>\n",
       "      <th>centre</th>\n",
       "      <th>shortName</th>\n",
       "      <th>typeOfLevel</th>\n",
       "      <th>level</th>\n",
       "      <th>dataDate</th>\n",
       "      <th>dataTime</th>\n",
       "      <th>stepRange</th>\n",
       "      <th>dataType</th>\n",
       "      <th>number</th>\n",
       "      <th>gridType</th>\n",
       "    </tr>\n",
       "  </thead>\n",
       "  <tbody>\n",
       "    <tr>\n",
       "      <th>0</th>\n",
       "      <td>ecmf</td>\n",
       "      <td>t</td>\n",
       "      <td>isobaricInhPa</td>\n",
       "      <td>1000</td>\n",
       "      <td>20230831</td>\n",
       "      <td>1200</td>\n",
       "      <td>0</td>\n",
       "      <td>an</td>\n",
       "      <td>0</td>\n",
       "      <td>regular_ll</td>\n",
       "    </tr>\n",
       "  </tbody>\n",
       "</table>\n",
       "</div>"
      ],
      "text/plain": [
       "  centre shortName    typeOfLevel  level  dataDate  dataTime stepRange  \\\n",
       "0   ecmf         t  isobaricInhPa   1000  20230831      1200         0   \n",
       "\n",
       "  dataType  number    gridType  \n",
       "0       an       0  regular_ll  "
      ]
     },
     "execution_count": 6,
     "metadata": {},
     "output_type": "execute_result"
    }
   ],
   "source": [
    "path = \"_interpolation.grib\"\n",
    "ds_new.save(path)\n",
    "ds1 = earthkit.data.from_source(\"file\", path)\n",
    "ds1.ls()"
   ]
  },
  {
   "cell_type": "code",
   "execution_count": 7,
   "id": "e5034fe7-a98c-43b9-a3cd-9e992b20a06d",
   "metadata": {},
   "outputs": [
    {
     "data": {
      "text/html": [
       "<style type=\"text/css\">table.ek td {\n",
       "    vertical-align: top;\n",
       "    text-align: left !important;\n",
       "}\n",
       "\n",
       "table.ek th {\n",
       "    vertical-align: top;\n",
       "    text-align: left !important;\n",
       "}\n",
       "</style>\n",
       "<table class=\"eh-table\">\n",
       "<tr><td><b>bitmapPresent</b></td><td>0</td></tr> <tr><td><b>latitudeOfFirstGridPointInDegrees</b></td><td>70.0</td></tr> <tr><td><b>longitudeOfFirstGridPointInDegrees</b></td><td>-50.0</td></tr> <tr><td><b>latitudeOfLastGridPointInDegrees</b></td><td>20.0</td></tr> <tr><td><b>longitudeOfLastGridPointInDegrees</b></td><td>10.0</td></tr> <tr><td><b>iScansNegatively</b></td><td>0</td></tr> <tr><td><b>jScansPositively</b></td><td>0</td></tr> <tr><td><b>jPointsAreConsecutive</b></td><td>0</td></tr> <tr><td><b>jDirectionIncrementInDegrees</b></td><td>2.0</td></tr> <tr><td><b>iDirectionIncrementInDegrees</b></td><td>2.0</td></tr> <tr><td><b>gridType</b></td><td>regular_ll</td></tr>\n",
       "</table>"
      ],
      "text/plain": [
       "{'geography': {'bitmapPresent': 0,\n",
       "  'latitudeOfFirstGridPointInDegrees': 70.0,\n",
       "  'longitudeOfFirstGridPointInDegrees': -50.0,\n",
       "  'latitudeOfLastGridPointInDegrees': 20.0,\n",
       "  'longitudeOfLastGridPointInDegrees': 10.0,\n",
       "  'iScansNegatively': 0,\n",
       "  'jScansPositively': 0,\n",
       "  'jPointsAreConsecutive': 0,\n",
       "  'jDirectionIncrementInDegrees': 2.0,\n",
       "  'iDirectionIncrementInDegrees': 2.0,\n",
       "  'gridType': 'regular_ll'}}"
      ]
     },
     "execution_count": 7,
     "metadata": {},
     "output_type": "execute_result"
    }
   ],
   "source": [
    "ds1[0].dump(namespace=\"geography\")"
   ]
  },
  {
   "cell_type": "code",
   "execution_count": 8,
   "id": "c1c9f2e5-c748-4b5b-9c76-3d5bcca7051a",
   "metadata": {},
   "outputs": [
    {
     "data": {
      "text/plain": [
       "GridSpec({'type': 'regular_ll', 'j_points_consecutive': 0, 'i_scans_negatively': 0, 'j_scans_positively': 0, 'grid': [2.0, 2.0], 'area': [70.0, -50.0, 20.0, 10.0]})"
      ]
     },
     "execution_count": 8,
     "metadata": {},
     "output_type": "execute_result"
    }
   ],
   "source": [
    "ds1[0].metadata().gridspec"
   ]
  },
  {
   "cell_type": "code",
   "execution_count": null,
   "id": "e9a2e47b-6b28-4f8d-8a2e-e857fe603150",
   "metadata": {},
   "outputs": [],
   "source": []
  }
 ],
 "metadata": {
  "kernelspec": {
   "display_name": "dev",
   "language": "python",
   "name": "dev"
  },
  "language_info": {
   "codemirror_mode": {
    "name": "ipython",
    "version": 3
   },
   "file_extension": ".py",
   "mimetype": "text/x-python",
   "name": "python",
   "nbconvert_exporter": "python",
   "pygments_lexer": "ipython3",
   "version": "3.10.11"
  }
 },
 "nbformat": 4,
 "nbformat_minor": 5
}
